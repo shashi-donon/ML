{
 "cells": [
  {
   "cell_type": "code",
   "execution_count": null,
   "metadata": {},
   "outputs": [],
   "source": [
    "# -*- coding: utf-8 -*-\n",
    "import csv\n",
    "import numpy\n",
    "from sklearn.mixture import GaussianMixture\n",
    "from sklearn.cluster import KMeans\n",
    "from matplotlib import pyplot\n",
    "with open('kmeanstrain.csv') as csv_file:\n",
    "csv_reader = csv.reader(csv_file, delimiter=',')\n",
    "data=[r for r in csv_reader]\n",
    "    for i in range(len(data)):\n",
    "        for j in range(len(data[i])):\n",
    "            data[i][j]=float(data[i][j])\n",
    "x=numpy.array([r[:-1] for r in data])\n",
    "y=numpy.array([r[-1] for r in data])\n",
    "\n",
    "em=GaussianMixture(n_components=2).fit(x,y)\n",
    "em_p=em.predict(x)\n",
    "print('EM Predictions:',em_p)\n",
    "km=KMeans(n_clusters=2).fit(x,y)\n",
    "km_p=km.predict(x)\n",
    "print('KMeans Predictions:',km_p)\n",
    "pyplot.scatter(x[:,0],x[:,3],c=em_p)\n",
    "pyplot.show()\n",
    "pyplot.scatter(x[:,0],x[:,3],c=km_p)\n",
    "pyplot.show()\n",
    "print(\"\\nObservation, The EM algorithm is more efficient than Kmeans algotrithm\")"
   ]
  }
 ],
 "metadata": {
  "kernelspec": {
   "display_name": "Python 3",
   "language": "python",
   "name": "python3"
  },
  "language_info": {
   "codemirror_mode": {
    "name": "ipython",
    "version": 3
   },
   "file_extension": ".py",
   "mimetype": "text/x-python",
   "name": "python",
   "nbconvert_exporter": "python",
   "pygments_lexer": "ipython3",
   "version": "3.6.4"
  }
 },
 "nbformat": 4,
 "nbformat_minor": 2
}
