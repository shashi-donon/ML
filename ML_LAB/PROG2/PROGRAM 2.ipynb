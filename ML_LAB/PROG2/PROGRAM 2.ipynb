{
 "cells": [
  {
   "cell_type": "code",
   "execution_count": 5,
   "metadata": {},
   "outputs": [
    {
     "name": "stdout",
     "output_type": "stream",
     "text": [
      "S:  ['%', '%', '%', '%', '%', '%'] \n",
      "G:  [['?', '?', '?', '?', '?', '?']] \n",
      "\n",
      "Data: ['sunny', 'warm', 'normal', 'strong', 'warm', 'some', 'yes']\n",
      "S:  ['sunny', 'warm', 'normal', 'strong', 'warm', 'some'] \n",
      "G:  [['?', '?', '?', '?', '?', '?']] \n",
      "\n",
      "Data: ['sunny', 'warm', 'high', 'strong', 'warm', 'some', 'yes']\n",
      "S:  ['sunny', 'warm', '?', 'strong', 'warm', 'some'] \n",
      "G:  [['?', '?', '?', '?', '?', '?']] \n",
      "\n",
      "Data: ['rainy', 'cold', 'high', 'strong', 'warm', 'change', 'no']\n",
      "S:  ['sunny', 'warm', '?', 'strong', 'warm', 'some'] \n",
      "G:  [['sunny', '?', '?', '?', '?', '?']] \n",
      "\n",
      "Data: ['sunny', 'warm', 'high', 'strong', 'cool', 'change', 'yes']\n",
      "S:  ['sunny', 'warm', '?', 'strong', '?', '?'] \n",
      "G:  [['sunny', '?', '?', '?', '?', '?']] \n",
      "\n",
      "S:  ['sunny', 'warm', '?', 'strong', '?', '?'] \n",
      "G:  [['sunny', '?', '?', '?', '?', '?']] \n",
      "\n"
     ]
    }
   ],
   "source": [
    "# -*- coding: utf-8 -*-\n",
    "import csv\n",
    "\n",
    "def match(d,h):\n",
    "    for i in range(len(h)):\n",
    "        if not(h[i]=='?' or h[i]==d[i]):\n",
    "           return False\n",
    "    return True\n",
    "def specialise(d,g,s):\n",
    "    g1=['?']*(len(d)-1)\n",
    "    g=[]\n",
    "    for i in range(len(d)-1):\n",
    "        if s[i]!='?' and s[i]!=d[i]:\n",
    "            g1[i]=s[i]\n",
    "            g.append(g1.copy())\n",
    "            g1[i]='?'\n",
    "        return g\n",
    "def generalise(d,s):\n",
    "    for i in range(len(s)):\n",
    "        if s[i]=='%':\n",
    "            s[i]=d[i]\n",
    "        elif s[i]!='?' and s[i]!=d[i]:\n",
    "             s[i]='?'\n",
    "    return s\n",
    "with open('cetrain.csv') as csv_file:\n",
    "    csv_reader = csv.reader(csv_file, delimiter=',')\n",
    "    data=[]\n",
    "    for row in csv_reader:\n",
    "        data.append(row)\n",
    "s=['%']*(len(data[0])-1)\n",
    "g=list()\n",
    "g.append(['?']*(len(data[0])-1))\n",
    "print(\"S: \",s,\"\\nG: \",g,\"\\n\")\n",
    "for d in data:\n",
    "    print(\"Data:\",d)\n",
    "    if d[-1]=='yes':\n",
    "        s=generalise(d,s)\n",
    "        g1=[]\n",
    "        for h in g:\n",
    "            if match(d,h):\n",
    "                g1.append(h)\n",
    "        g=g1\n",
    "    else:\n",
    "            g=specialise(d,g,s)\n",
    "    print(\"S: \",s,\"\\nG: \",g,\"\\n\")\n",
    "print(\"S: \",s,\"\\nG: \",g,\"\\n\")"
   ]
  },
  {
   "cell_type": "code",
   "execution_count": null,
   "metadata": {},
   "outputs": [],
   "source": []
  }
 ],
 "metadata": {
  "kernelspec": {
   "display_name": "Python 3",
   "language": "python",
   "name": "python3"
  },
  "language_info": {
   "codemirror_mode": {
    "name": "ipython",
    "version": 3
   },
   "file_extension": ".py",
   "mimetype": "text/x-python",
   "name": "python",
   "nbconvert_exporter": "python",
   "pygments_lexer": "ipython3",
   "version": "3.6.4"
  }
 },
 "nbformat": 4,
 "nbformat_minor": 2
}
