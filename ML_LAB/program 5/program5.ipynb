{
 "cells": [
  {
   "cell_type": "code",
   "execution_count": 2,
   "metadata": {},
   "outputs": [
    {
     "name": "stdout",
     "output_type": "stream",
     "text": [
      "['sunny', 'cool', 'high', 'strong', 'no']\n",
      "P(Yes)= 0.005291005291005291\n",
      "P(No)= 0.020571428571428584\n",
      "\n",
      "Accuracy= 100.0\n"
     ]
    }
   ],
   "source": [
    "import csv\n",
    "with open('nbc1train.csv') as csv_file:\n",
    "    csv_reader = csv.reader(csv_file, delimiter=',')\n",
    "    data=list()\n",
    "    for row in csv_reader:\n",
    "        data.append(row)\n",
    "p=[]\n",
    "for i in range(len(data[0])):\n",
    "    p.append(dict())\n",
    "y=n=0\n",
    "for d in data:\n",
    "    if d[-1]=='yes':\n",
    "        y+=1\n",
    "    else:\n",
    "        n+=1\n",
    "for d in data:\n",
    "    for i in range(len(d)-1):\n",
    "        if p[i].get(d[i],0)==0:\n",
    "            p[i][d[i]]=dict()\n",
    "        if d[-1]=='yes':\n",
    "            p[i][d[i]][d[-1]]=p[i][d[i]].get(d[-1],0)+(1/y)\n",
    "        else:\n",
    "            p[i][d[i]][d[-1]]=p[i][d[i]].get(d[-1],0)+(1/n)\n",
    "with open('nbc1test.csv') as csv_file:\n",
    "    csv_reader = csv.reader(csv_file, delimiter=',')\n",
    "    data=list()\n",
    "    for row in csv_reader:\n",
    "        data.append(row)\n",
    "accuracy=0\n",
    "for d in data:\n",
    "    print(d)\n",
    "    pp=y/(y+n)\n",
    "    pn=n/(y+n)\n",
    "    for i in range(len(d)-1):\n",
    "        pp*=p[i][d[i]].get('yes',0)\n",
    "        pn*=p[i][d[i]].get('no',0)\n",
    "    print(\"P(Yes)=\",pp)\n",
    "    print(\"P(No)=\",pn)\n",
    "    if (pp>pn and d[-1]=='yes') or (pn>pp and d[-1]=='no'):\n",
    "        accuracy+=(1/len(data))*100\n",
    "    print('\\nAccuracy=',accuracy)\n",
    "     "
   ]
  },
  {
   "cell_type": "code",
   "execution_count": null,
   "metadata": {},
   "outputs": [],
   "source": []
  }
 ],
 "metadata": {
  "kernelspec": {
   "display_name": "Python 3",
   "language": "python",
   "name": "python3"
  },
  "language_info": {
   "codemirror_mode": {
    "name": "ipython",
    "version": 3
   },
   "file_extension": ".py",
   "mimetype": "text/x-python",
   "name": "python",
   "nbconvert_exporter": "python",
   "pygments_lexer": "ipython3",
   "version": "3.6.4"
  }
 },
 "nbformat": 4,
 "nbformat_minor": 2
}
