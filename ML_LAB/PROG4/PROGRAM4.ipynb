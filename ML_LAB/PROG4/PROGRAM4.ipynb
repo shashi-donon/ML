{
 "cells": [
  {
   "cell_type": "code",
   "execution_count": 2,
   "metadata": {},
   "outputs": [
    {
     "name": "stdout",
     "output_type": "stream",
     "text": [
      "normalised input:\n",
      "[[0.66666667 1.        ]\n",
      " [0.33333333 0.55555556]\n",
      " [1.         0.66666667]]\n",
      "actor output:\n",
      "[[0.92]\n",
      " [0.86]\n",
      " [0.89]]\n",
      "predicted.output\n",
      " [[0.89319585]\n",
      " [0.87912893]\n",
      " [0.89755559]]\n"
     ]
    }
   ],
   "source": [
    "# -*- coding: utf-8 -*-\n",
    "import numpy as np\n",
    "x=np.array(([2,9],[1,5],[3,6]),dtype=float)\n",
    "y=np.array(([92],[86],[89]),dtype=float)\n",
    "x=x/np.amax(x,axis=0)\n",
    "y=y/100\n",
    "\n",
    "def sigmoid(x):\n",
    "    return 1/(1+np.exp(-x))\n",
    "\n",
    "def sigmoid_grad(x):\n",
    "    return x*(1-x)\n",
    "\n",
    "epoch=1000\n",
    "eta=0.2\n",
    "input_neurons=2\n",
    "hidden_neurons=3\n",
    "output_neurons=1\n",
    "\n",
    "wh=np.random.uniform(size= (input_neurons,hidden_neurons))\n",
    "bh=np.random.uniform(size= (1,hidden_neurons))\n",
    "wout=np.random.uniform(size= (hidden_neurons,output_neurons))\n",
    "bout=np.random.uniform(size= (1,output_neurons))\n",
    "\n",
    "for i in range(epoch):\n",
    "    h_ip=np.dot(x,wh)+bh\n",
    "    h_act=sigmoid(h_ip)\n",
    "    o_ip=np.dot(h_act,wout)+bout\n",
    "    output=sigmoid(o_ip)\n",
    "    \n",
    "    E0=y-output\n",
    "    outgrad=sigmoid_grad(output)\n",
    "    d_output=E0*outgrad\n",
    "    Eh=d_output.dot(wout.T)\n",
    "    hiddengrad=sigmoid_grad(h_act)\n",
    "    d_hidden=Eh*hiddengrad\n",
    "    \n",
    "    wout+=h_act.T.dot(d_output)*eta\n",
    "    wh+=x.T.dot(d_hidden)*eta\n",
    "print(\"normalised input:\\n\"+str(x))\n",
    "print(\"actor output:\\n\"+str(y))\n",
    "print(\"predicted.output\\n\",output)"
   ]
  },
  {
   "cell_type": "code",
   "execution_count": null,
   "metadata": {},
   "outputs": [],
   "source": []
  }
 ],
 "metadata": {
  "kernelspec": {
   "display_name": "Python 3",
   "language": "python",
   "name": "python3"
  },
  "language_info": {
   "codemirror_mode": {
    "name": "ipython",
    "version": 3
   },
   "file_extension": ".py",
   "mimetype": "text/x-python",
   "name": "python",
   "nbconvert_exporter": "python",
   "pygments_lexer": "ipython3",
   "version": "3.6.4"
  }
 },
 "nbformat": 4,
 "nbformat_minor": 2
}
