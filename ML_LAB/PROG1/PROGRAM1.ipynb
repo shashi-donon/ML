{
 "cells": [
  {
   "cell_type": "code",
   "execution_count": 18,
   "metadata": {},
   "outputs": [
    {
     "name": "stdout",
     "output_type": "stream",
     "text": [
      "Initially:\t ['%', '%', '%', '%', '%', '%'] \n",
      "\n",
      "Data:\t\t ['sunny', 'warm', 'normal', 'strong', 'warm', 'same', 'yes']\n",
      "Hypothesis:\t ['sunny', 'warm', 'normal', 'strong', 'warm', 'same'] \n",
      "\n",
      "Final Hypothesis: ['sunny', 'warm', 'normal', 'strong', 'warm', 'same']\n",
      "Data:\t\t ['sunny', 'warm', 'high', 'strong', 'warm', 'same', 'yes']\n",
      "Hypothesis:\t ['sunny', 'warm', '?', 'strong', 'warm', 'same'] \n",
      "\n",
      "Final Hypothesis: ['sunny', 'warm', '?', 'strong', 'warm', 'same']\n",
      "Data:\t\t ['rainy', 'cold', 'normal', 'strong', 'warm', 'change', 'no']\n",
      "Hypothesis:\t ['sunny', 'warm', '?', 'strong', 'warm', 'same'] \n",
      "\n",
      "Final Hypothesis: ['sunny', 'warm', '?', 'strong', 'warm', 'same']\n",
      "Data:\t\t ['sunny', 'warm', 'high', 'strong', 'cool', 'change', 'yes']\n",
      "Hypothesis:\t ['sunny', 'warm', '?', 'strong', '?', '?'] \n",
      "\n",
      "Final Hypothesis: ['sunny', 'warm', '?', 'strong', '?', '?']\n"
     ]
    }
   ],
   "source": [
    "# -*- coding: utf-8 -*-\n",
    "import csv\n",
    "with open('findstrain.csv') as csv_file:\n",
    " csv_reader= csv.reader(csv_file, delimiter=',')\n",
    " data=[]\n",
    " for row in csv_reader:\n",
    "    data.append(row)\n",
    " hypothesis=['%']*(len(data[0])-1)\n",
    " print(\"Initially:\\t\",hypothesis,\"\\n\")\n",
    "for d in data:\n",
    " print(\"Data:\\t\\t\",d)\n",
    " if d[-1]=='yes':\n",
    "    for j in range(len(d)-1):\n",
    "     if hypothesis[j]=='%':\n",
    "        hypothesis[j]=d[j]\n",
    "     elif hypothesis[j]!='?' and hypothesis[j]!=d[j]:\n",
    "          hypothesis[j]='?'\n",
    " print(\"Hypothesis:\\t\",hypothesis,\"\\n\")\n",
    " print(\"Final Hypothesis:\",hypothesis)"
   ]
  },
  {
   "cell_type": "code",
   "execution_count": null,
   "metadata": {},
   "outputs": [],
   "source": []
  }
 ],
 "metadata": {
  "kernelspec": {
   "display_name": "Python 3",
   "language": "python",
   "name": "python3"
  },
  "language_info": {
   "codemirror_mode": {
    "name": "ipython",
    "version": 3
   },
   "file_extension": ".py",
   "mimetype": "text/x-python",
   "name": "python",
   "nbconvert_exporter": "python",
   "pygments_lexer": "ipython3",
   "version": "3.6.4"
  }
 },
 "nbformat": 4,
 "nbformat_minor": 2
}
